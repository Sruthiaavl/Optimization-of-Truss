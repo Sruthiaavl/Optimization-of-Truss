{
 "cells": [
  {
   "cell_type": "code",
   "execution_count": 1,
   "metadata": {},
   "outputs": [
    {
     "name": "stdout",
     "output_type": "stream",
     "text": [
      "x =  [3.9968076  3.99680767 5.65233962]\n",
      "v =  [-0.25019968 -1.00079872 -0.25019968]\n",
      "Relative weight F =  15.987230614783403\n",
      "Number of cycles =  28\n",
      "Press return to exit\n"
     ]
    },
    {
     "data": {
      "text/plain": [
       "''"
      ]
     },
     "execution_count": 1,
     "metadata": {},
     "output_type": "execute_result"
    }
   ],
   "source": [
    "from powell import *\n",
    "from numpy import array , linalg\n",
    "from math import sqrt\n",
    "from gausselimin import *\n",
    "def F(x):\n",
    "    global v, weight\n",
    "    lam = 10000.0\n",
    "    c = 2.0*sqrt(2.0)\n",
    "    A = array([[c*x[1] + x[2], -x[2], x[2]], \\\n",
    "                [-x[2], x[2], -x[2]], \\\n",
    "                [ x[2], -x[2], c*x[0] + x[2]]])/c\n",
    "    b = array([0.0, -1.0, 0.0])\n",
    "    v = gaussElimin(A,b)\n",
    "    weight = x[0] + x[1] + sqrt(2.0)*x[2]\n",
    "    penalty = max(0.0,abs(v[1]) - 1.0)**2 \\\n",
    "                + max(0.0,-x[0])**2 \\\n",
    "                + max(0.0,-x[1])**2 \\\n",
    "                + max(0.0,-x[2])**2\n",
    "    return weight + penalty*lam\n",
    "xStart = array([3.0, 2.0, 1.0])\n",
    "x,numIter = powell(F,xStart)\n",
    "print(\"x = \",x)\n",
    "print(\"v = \",v)\n",
    "print(\"Relative weight F = \",weight)\n",
    "print(\"Number of cycles = \",numIter)\n",
    "input(\"Press return to exit\")\n",
    "\n"
   ]
  },
  {
   "cell_type": "code",
   "execution_count": null,
   "metadata": {},
   "outputs": [],
   "source": []
  }
 ],
 "metadata": {
  "kernelspec": {
   "display_name": "Python 3",
   "language": "python",
   "name": "python3"
  },
  "language_info": {
   "codemirror_mode": {
    "name": "ipython",
    "version": 3
   },
   "file_extension": ".py",
   "mimetype": "text/x-python",
   "name": "python",
   "nbconvert_exporter": "python",
   "pygments_lexer": "ipython3",
   "version": "3.7.4"
  }
 },
 "nbformat": 4,
 "nbformat_minor": 2
}
